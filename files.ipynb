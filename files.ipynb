{
 "cells": [
  {
   "cell_type": "code",
   "execution_count": null,
   "id": "ab99dd5f",
   "metadata": {},
   "outputs": [
    {
     "data": {
      "text/html": [
       "<div>\n",
       "<style scoped>\n",
       "    .dataframe tbody tr th:only-of-type {\n",
       "        vertical-align: middle;\n",
       "    }\n",
       "\n",
       "    .dataframe tbody tr th {\n",
       "        vertical-align: top;\n",
       "    }\n",
       "\n",
       "    .dataframe thead th {\n",
       "        text-align: right;\n",
       "    }\n",
       "</style>\n",
       "<table border=\"1\" class=\"dataframe\">\n",
       "  <thead>\n",
       "    <tr style=\"text-align: right;\">\n",
       "      <th></th>\n",
       "      <th>A</th>\n",
       "      <th>B</th>\n",
       "      <th>C</th>\n",
       "      <th>D</th>\n",
       "      <th>E</th>\n",
       "    </tr>\n",
       "  </thead>\n",
       "  <tbody>\n",
       "    <tr>\n",
       "      <th>0</th>\n",
       "      <td>1</td>\n",
       "      <td>2</td>\n",
       "      <td>3</td>\n",
       "      <td>4</td>\n",
       "      <td>5</td>\n",
       "    </tr>\n",
       "    <tr>\n",
       "      <th>1</th>\n",
       "      <td>1</td>\n",
       "      <td>2</td>\n",
       "      <td>3</td>\n",
       "      <td>5</td>\n",
       "      <td>4</td>\n",
       "    </tr>\n",
       "  </tbody>\n",
       "</table>\n",
       "</div>"
      ],
      "text/plain": [
       "   A  B  C  D  E\n",
       "0  1  2  3  4  5\n",
       "1  1  2  3  5  4"
      ]
     },
     "execution_count": 6,
     "metadata": {},
     "output_type": "execute_result"
    }
   ],
   "source": [
    "#opening csv file\n",
    "import pandas as pd\n",
    "pd.read_csv(\"sample.csv\").head()"
   ]
  },
  {
   "cell_type": "code",
   "execution_count": 8,
   "id": "d20c68c8",
   "metadata": {},
   "outputs": [
    {
     "data": {
      "text/plain": [
       "'A,B,C,D,E\\n1,2,3,4,5\\n1,2,3,5,4'"
      ]
     },
     "execution_count": 8,
     "metadata": {},
     "output_type": "execute_result"
    }
   ],
   "source": [
    "x = open ('./sample.csv', 'r')\n",
    "x.read()"
   ]
  },
  {
   "cell_type": "code",
   "execution_count": 9,
   "id": "f77f2ab4",
   "metadata": {},
   "outputs": [],
   "source": [
    "#you need to close the file\n",
    "x.close()"
   ]
  },
  {
   "cell_type": "code",
   "execution_count": 12,
   "id": "dec84307",
   "metadata": {},
   "outputs": [
    {
     "name": "stdout",
     "output_type": "stream",
     "text": [
      "A,B,C,D,E\n",
      "1,2,3,4,5\n",
      "1,2,3,5,4\n"
     ]
    }
   ],
   "source": [
    "with open('sample.csv', 'r') as f:\n",
    "    print(f.read())"
   ]
  },
  {
   "cell_type": "code",
   "execution_count": null,
   "id": "68261fb9",
   "metadata": {},
   "outputs": [],
   "source": [
    "import csv\n",
    "with open('sample.csv') as f:\n",
    "    reader = csv.DictReader(f) #converts the csv as a dictonary"
   ]
  },
  {
   "cell_type": "code",
   "execution_count": 18,
   "id": "a3da9498",
   "metadata": {},
   "outputs": [],
   "source": [
    "#creating a new file and write on it\n",
    "\n",
    "with open('cities.txt', 'w') as f:\n",
    "    f.write('Dallas | London| Copenhagen')"
   ]
  }
 ],
 "metadata": {
  "kernelspec": {
   "display_name": "learn-env",
   "language": "python",
   "name": "python3"
  },
  "language_info": {
   "codemirror_mode": {
    "name": "ipython",
    "version": 3
   },
   "file_extension": ".py",
   "mimetype": "text/x-python",
   "name": "python",
   "nbconvert_exporter": "python",
   "pygments_lexer": "ipython3",
   "version": "3.8.5"
  }
 },
 "nbformat": 4,
 "nbformat_minor": 5
}
