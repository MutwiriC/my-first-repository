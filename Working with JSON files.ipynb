{
 "cells": [
  {
   "cell_type": "markdown",
   "id": "990c20d1",
   "metadata": {},
   "source": [
    "Working with JSON files"
   ]
  },
  {
   "cell_type": "code",
   "execution_count": 3,
   "id": "43037089",
   "metadata": {},
   "outputs": [
    {
     "data": {
      "text/plain": [
       "dict"
      ]
     },
     "execution_count": 3,
     "metadata": {},
     "output_type": "execute_result"
    }
   ],
   "source": [
    "import json\n",
    "#with open to load the json file\n",
    "with open('playlist.json', 'r') as f:\n",
    "    data = json.load(f) #recommended method. It keeps json file as it is without changing the format to a string\n",
    "\n",
    "data['playlist_name']\n",
    "type(data)\n",
    "# to open the entire dataset replace data['playlist_name'] with data"
   ]
  },
  {
   "cell_type": "code",
   "execution_count": null,
   "id": "d63c8688",
   "metadata": {},
   "outputs": [
    {
     "name": "stdout",
     "output_type": "stream",
     "text": [
      "{\n",
      "  \"playlist_name\": \"My_Jams\",\n",
      "  \"created_by\": \"Chacha\",\n",
      "  \"tracks\": [\n",
      "    {\n",
      "      \"title\": \"Stan\",\n",
      "      \"artist\": \"Eminem\",\n",
      "      \"album\": \"The Marshall Mathers LP\",\n",
      "      \"duration_sec\": 405\n",
      "    },\n",
      "    {\n",
      "      \"title\": \"In Da Club\",\n",
      "      \"artist\": \"50 Cent\",\n",
      "      \"album\": \"Get Rich or Die Tryin\",\n",
      "      \"duration_sec\": 240\n",
      "    },\n",
      "    {\n",
      "      \"title\": \"Suzanna\",\n",
      "      \"artist\": \"Sauti Sol\",\n",
      "      \"album\": \"Midnight Train\",\n",
      "      \"duration_sec\": 239\n",
      "    },\n",
      "    {\n",
      "      \"title\": \"Many Men\",\n",
      "      \"artist\": \"50 Cent\",\n",
      "      \"album\": \"Get Rich or Die Tryin\",\n",
      "      \"duration_sec\": 256\n",
      "    },\n",
      "    {\n",
      "      \"title\": \"Bad Liar\",\n",
      "      \"artist\": \"Imagine Dragons\",\n",
      "      \"album\": \"Origins\",\n",
      "      \"duration_sec\": 243\n",
      "    }\n",
      "  ]\n",
      "}\n",
      "\n"
     ]
    }
   ],
   "source": [
    "\n",
    "with open('playlist.json', 'r') as f:\n",
    "    df = f.read() #no recommended\n",
    "type(df) #this returns a single string and it losing its uniqueness. \n",
    "#working with this becomes a hassle since you need to do string manipulation\n"
   ]
  },
  {
   "cell_type": "markdown",
   "id": "5c4bc0e8",
   "metadata": {},
   "source": [
    "##Exploring JSON \n",
    "Let's check what is held within it"
   ]
  },
  {
   "cell_type": "code",
   "execution_count": 4,
   "id": "91b0179b",
   "metadata": {},
   "outputs": [
    {
     "data": {
      "text/plain": [
       "dict_keys(['playlist_name', 'created_by', 'tracks'])"
      ]
     },
     "execution_count": 4,
     "metadata": {},
     "output_type": "execute_result"
    }
   ],
   "source": [
    "data.keys()"
   ]
  },
  {
   "cell_type": "code",
   "execution_count": 5,
   "id": "aaa5de9c",
   "metadata": {},
   "outputs": [
    {
     "data": {
      "text/plain": [
       "dict_items([('playlist_name', 'My_Jams'), ('created_by', 'Chacha'), ('tracks', [{'title': 'Stan', 'artist': 'Eminem', 'album': 'The Marshall Mathers LP', 'duration_sec': 405}, {'title': 'In Da Club', 'artist': '50 Cent', 'album': 'Get Rich or Die Tryin', 'duration_sec': 240}, {'title': 'Suzanna', 'artist': 'Sauti Sol', 'album': 'Midnight Train', 'duration_sec': 239}, {'title': 'Many Men', 'artist': '50 Cent', 'album': 'Get Rich or Die Tryin', 'duration_sec': 256}, {'title': 'Bad Liar', 'artist': 'Imagine Dragons', 'album': 'Origins', 'duration_sec': 243}])])"
      ]
     },
     "execution_count": 5,
     "metadata": {},
     "output_type": "execute_result"
    }
   ],
   "source": [
    "data.items()"
   ]
  },
  {
   "cell_type": "code",
   "execution_count": 6,
   "id": "6049e3ed",
   "metadata": {},
   "outputs": [
    {
     "data": {
      "text/plain": [
       "dict_values(['My_Jams', 'Chacha', [{'title': 'Stan', 'artist': 'Eminem', 'album': 'The Marshall Mathers LP', 'duration_sec': 405}, {'title': 'In Da Club', 'artist': '50 Cent', 'album': 'Get Rich or Die Tryin', 'duration_sec': 240}, {'title': 'Suzanna', 'artist': 'Sauti Sol', 'album': 'Midnight Train', 'duration_sec': 239}, {'title': 'Many Men', 'artist': '50 Cent', 'album': 'Get Rich or Die Tryin', 'duration_sec': 256}, {'title': 'Bad Liar', 'artist': 'Imagine Dragons', 'album': 'Origins', 'duration_sec': 243}]])"
      ]
     },
     "execution_count": 6,
     "metadata": {},
     "output_type": "execute_result"
    }
   ],
   "source": [
    "data.values()"
   ]
  },
  {
   "cell_type": "code",
   "execution_count": null,
   "id": "0e251607",
   "metadata": {},
   "outputs": [
    {
     "data": {
      "text/plain": [
       "{'title': 'Bad Liar',\n",
       " 'artist': 'Imagine Dragons',\n",
       " 'album': 'Origins',\n",
       " 'duration_sec': 243}"
      ]
     },
     "execution_count": 12,
     "metadata": {},
     "output_type": "execute_result"
    }
   ],
   "source": [
    "#accessing the third song\n",
    "data['tracks'][2]['title']"
   ]
  },
  {
   "cell_type": "code",
   "execution_count": 13,
   "id": "92e4296f",
   "metadata": {},
   "outputs": [
    {
     "data": {
      "text/plain": [
       "'Origins'"
      ]
     },
     "execution_count": 13,
     "metadata": {},
     "output_type": "execute_result"
    }
   ],
   "source": [
    "#getting the origins\n",
    "data['tracks'][-1]['album']\n"
   ]
  },
  {
   "cell_type": "markdown",
   "id": "26799f07",
   "metadata": {},
   "source": [
    "Transforming JSON Schema\n",
    "transforming JSON into a flatter structure, which we can use for analysis"
   ]
  },
  {
   "cell_type": "code",
   "execution_count": 17,
   "id": "97901a1c",
   "metadata": {},
   "outputs": [
    {
     "data": {
      "text/plain": [
       "[{'title': 'Stan',\n",
       "  'artist': 'Eminem',\n",
       "  'album': 'The Marshall Mathers LP',\n",
       "  'duration_sec': 405},\n",
       " {'title': 'In Da Club',\n",
       "  'artist': '50 Cent',\n",
       "  'album': 'Get Rich or Die Tryin',\n",
       "  'duration_sec': 240},\n",
       " {'title': 'Suzanna',\n",
       "  'artist': 'Sauti Sol',\n",
       "  'album': 'Midnight Train',\n",
       "  'duration_sec': 239},\n",
       " {'title': 'Many Men',\n",
       "  'artist': '50 Cent',\n",
       "  'album': 'Get Rich or Die Tryin',\n",
       "  'duration_sec': 256},\n",
       " {'title': 'Bad Liar',\n",
       "  'artist': 'Imagine Dragons',\n",
       "  'album': 'Origins',\n",
       "  'duration_sec': 243}]"
      ]
     },
     "execution_count": 17,
     "metadata": {},
     "output_type": "execute_result"
    }
   ],
   "source": [
    "\"\"\"\n",
    "load the JSON file\n",
    "iterate over the dataset and create a new dictionary from the data points\n",
    "\n",
    "\"\"\"\n",
    "\n",
    "tracks = data['tracks']\n",
    "tracks"
   ]
  },
  {
   "cell_type": "code",
   "execution_count": null,
   "id": "2d4a5c5f",
   "metadata": {},
   "outputs": [
    {
     "data": {
      "text/html": [
       "<div>\n",
       "<style scoped>\n",
       "    .dataframe tbody tr th:only-of-type {\n",
       "        vertical-align: middle;\n",
       "    }\n",
       "\n",
       "    .dataframe tbody tr th {\n",
       "        vertical-align: top;\n",
       "    }\n",
       "\n",
       "    .dataframe thead th {\n",
       "        text-align: right;\n",
       "    }\n",
       "</style>\n",
       "<table border=\"1\" class=\"dataframe\">\n",
       "  <thead>\n",
       "    <tr style=\"text-align: right;\">\n",
       "      <th></th>\n",
       "      <th>title</th>\n",
       "      <th>artist</th>\n",
       "      <th>album</th>\n",
       "      <th>duration_sec</th>\n",
       "      <th>length in min</th>\n",
       "    </tr>\n",
       "  </thead>\n",
       "  <tbody>\n",
       "    <tr>\n",
       "      <th>0</th>\n",
       "      <td>Stan</td>\n",
       "      <td>Eminem</td>\n",
       "      <td>The Marshall Mathers LP</td>\n",
       "      <td>405</td>\n",
       "      <td>6.750000</td>\n",
       "    </tr>\n",
       "    <tr>\n",
       "      <th>1</th>\n",
       "      <td>In Da Club</td>\n",
       "      <td>50 Cent</td>\n",
       "      <td>Get Rich or Die Tryin</td>\n",
       "      <td>240</td>\n",
       "      <td>4.000000</td>\n",
       "    </tr>\n",
       "    <tr>\n",
       "      <th>2</th>\n",
       "      <td>Suzanna</td>\n",
       "      <td>Sauti Sol</td>\n",
       "      <td>Midnight Train</td>\n",
       "      <td>239</td>\n",
       "      <td>3.983333</td>\n",
       "    </tr>\n",
       "    <tr>\n",
       "      <th>3</th>\n",
       "      <td>Many Men</td>\n",
       "      <td>50 Cent</td>\n",
       "      <td>Get Rich or Die Tryin</td>\n",
       "      <td>256</td>\n",
       "      <td>4.266667</td>\n",
       "    </tr>\n",
       "    <tr>\n",
       "      <th>4</th>\n",
       "      <td>Bad Liar</td>\n",
       "      <td>Imagine Dragons</td>\n",
       "      <td>Origins</td>\n",
       "      <td>243</td>\n",
       "      <td>4.050000</td>\n",
       "    </tr>\n",
       "  </tbody>\n",
       "</table>\n",
       "</div>"
      ],
      "text/plain": [
       "        title           artist                    album  duration_sec  \\\n",
       "0        Stan           Eminem  The Marshall Mathers LP           405   \n",
       "1  In Da Club          50 Cent    Get Rich or Die Tryin           240   \n",
       "2     Suzanna        Sauti Sol           Midnight Train           239   \n",
       "3    Many Men          50 Cent    Get Rich or Die Tryin           256   \n",
       "4    Bad Liar  Imagine Dragons                  Origins           243   \n",
       "\n",
       "   length in min  \n",
       "0       6.750000  \n",
       "1       4.000000  \n",
       "2       3.983333  \n",
       "3       4.266667  \n",
       "4       4.050000  "
      ]
     },
     "execution_count": 29,
     "metadata": {},
     "output_type": "execute_result"
    }
   ],
   "source": [
    "# we use this method if we want to change the Key's name and if you only want specific keys\n",
    "\n",
    "flattened_tracks = []\n",
    "\n",
    "for track in tracks:\n",
    "    #we need to append track info from a JSON\n",
    "    flattened_tracks.append({\n",
    "            'title': track['title'],\n",
    "            'artist': track['artist'],\n",
    "            'album': track['album'],\n",
    "            'duration_sec': track['duration_sec'],\n",
    "            'length in min': track['duration_sec']/60\n",
    "            \n",
    "        })\n",
    "flattened_tracks\n",
    "#convert the dict to a df\n",
    "df2 = pd.DataFrame(flattened_tracks)\n",
    "df2.head()"
   ]
  },
  {
   "cell_type": "code",
   "execution_count": null,
   "id": "7a7421e1",
   "metadata": {},
   "outputs": [],
   "source": [
    "#if you want to make sure the code is dynamic:\n",
    "for track in tracks:\n",
    "\n",
    "    dict_keys = list(track.keys())\n",
    "\n",
    "    print(dict_keys)\n",
    "\n",
    "    flattened_tracks.append({\n",
    "\n",
    "        dict_keys[0]: track['title'],\n",
    "\n",
    "        dict_keys[1]:track['artist'],\n",
    "\n",
    "        dict_keys[2]: round(track['duration_sec'] / 60 ,2)\n",
    "\n",
    "    })\n",
    "\n",
    "\n",
    "\n",
    "df2 = pd.DataFrame(flattened_tracks)\n",
    "\n",
    "\n",
    "\n",
    "df2.head()"
   ]
  },
  {
   "cell_type": "code",
   "execution_count": 33,
   "id": "076939f9",
   "metadata": {},
   "outputs": [
    {
     "data": {
      "text/html": [
       "<div>\n",
       "<style scoped>\n",
       "    .dataframe tbody tr th:only-of-type {\n",
       "        vertical-align: middle;\n",
       "    }\n",
       "\n",
       "    .dataframe tbody tr th {\n",
       "        vertical-align: top;\n",
       "    }\n",
       "\n",
       "    .dataframe thead th {\n",
       "        text-align: right;\n",
       "    }\n",
       "</style>\n",
       "<table border=\"1\" class=\"dataframe\">\n",
       "  <thead>\n",
       "    <tr style=\"text-align: right;\">\n",
       "      <th></th>\n",
       "      <th>title</th>\n",
       "      <th>artist</th>\n",
       "      <th>album</th>\n",
       "      <th>duration_sec</th>\n",
       "    </tr>\n",
       "  </thead>\n",
       "  <tbody>\n",
       "    <tr>\n",
       "      <th>0</th>\n",
       "      <td>Stan</td>\n",
       "      <td>Eminem</td>\n",
       "      <td>The Marshall Mathers LP</td>\n",
       "      <td>405</td>\n",
       "    </tr>\n",
       "    <tr>\n",
       "      <th>1</th>\n",
       "      <td>In Da Club</td>\n",
       "      <td>50 Cent</td>\n",
       "      <td>Get Rich or Die Tryin</td>\n",
       "      <td>240</td>\n",
       "    </tr>\n",
       "    <tr>\n",
       "      <th>2</th>\n",
       "      <td>Suzanna</td>\n",
       "      <td>Sauti Sol</td>\n",
       "      <td>Midnight Train</td>\n",
       "      <td>239</td>\n",
       "    </tr>\n",
       "    <tr>\n",
       "      <th>3</th>\n",
       "      <td>Many Men</td>\n",
       "      <td>50 Cent</td>\n",
       "      <td>Get Rich or Die Tryin</td>\n",
       "      <td>256</td>\n",
       "    </tr>\n",
       "    <tr>\n",
       "      <th>4</th>\n",
       "      <td>Bad Liar</td>\n",
       "      <td>Imagine Dragons</td>\n",
       "      <td>Origins</td>\n",
       "      <td>243</td>\n",
       "    </tr>\n",
       "  </tbody>\n",
       "</table>\n",
       "</div>"
      ],
      "text/plain": [
       "        title           artist                    album  duration_sec\n",
       "0        Stan           Eminem  The Marshall Mathers LP           405\n",
       "1  In Da Club          50 Cent    Get Rich or Die Tryin           240\n",
       "2     Suzanna        Sauti Sol           Midnight Train           239\n",
       "3    Many Men          50 Cent    Get Rich or Die Tryin           256\n",
       "4    Bad Liar  Imagine Dragons                  Origins           243"
      ]
     },
     "execution_count": 33,
     "metadata": {},
     "output_type": "execute_result"
    }
   ],
   "source": [
    "#using pandas to make JSON dataset a csv\n",
    "import pandas as pd\n",
    "with open('playlist.json', 'r') as f:\n",
    "    playlist =json.load(f)\n",
    "df = pd.DataFrame(playlist['tracks']) #convert a dict to a dataframe\n",
    "df.to_csv('tracks.csv', index = False) #to save as a csv file to acces later\n",
    "#by index we mean numbering therefore creating a column on its own\n",
    "df.head()\n",
    "\n"
   ]
  },
  {
   "cell_type": "code",
   "execution_count": 34,
   "id": "72d271eb",
   "metadata": {},
   "outputs": [],
   "source": [
    "import json\n",
    "import csv\n",
    "#loading json file\n",
    "with open('playlist.json', 'r') as f:\n",
    "    data = json.load(f)\n",
    "#creating a csv file\n",
    "with open('playlist.csv', 'w', newline=\"\")as f: #\n",
    "    writer = csv.DictWriter(f, fieldnames=['title', 'artist', 'album', 'duration_sec'])\n",
    "    #f as file you want to add data abd fieldnames as keys\n",
    "    writer.writeheader() #creates the columns\n",
    "    writer.writerows(data['tracks']) #where rows are coming from\n"
   ]
  },
  {
   "cell_type": "code",
   "execution_count": null,
   "id": "b5bb7477",
   "metadata": {},
   "outputs": [],
   "source": []
  }
 ],
 "metadata": {
  "kernelspec": {
   "display_name": "learn-env",
   "language": "python",
   "name": "python3"
  },
  "language_info": {
   "codemirror_mode": {
    "name": "ipython",
    "version": 3
   },
   "file_extension": ".py",
   "mimetype": "text/x-python",
   "name": "python",
   "nbconvert_exporter": "python",
   "pygments_lexer": "ipython3",
   "version": "3.8.5"
  }
 },
 "nbformat": 4,
 "nbformat_minor": 5
}
